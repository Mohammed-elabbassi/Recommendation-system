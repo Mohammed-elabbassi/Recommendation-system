{
 "cells": [
  {
   "cell_type": "code",
   "execution_count": 1,
   "id": "ae58d950",
   "metadata": {},
   "outputs": [
    {
     "name": "stdout",
     "output_type": "stream",
     "text": [
      " Données préparées : (1000209, 28)\n"
     ]
    }
   ],
   "source": [
    "import numpy as np\n",
    "import pandas as pd\n",
    "from sklearn.metrics.pairwise import cosine_similarity\n",
    "import random\n",
    "from tqdm import tqdm\n",
    "\n",
    "# Chargement des fichiers\n",
    "path = r'D:/mes_travails/powerBI/data'\n",
    "\n",
    "ratings = pd.read_csv(f'{path}/ratings.dat', sep='::', engine='python',\n",
    "                      names=['UserID', 'MovieID', 'Rating', 'Timestamp'])\n",
    "movies = pd.read_csv(f'{path}/movies.dat', sep='::', engine='python',\n",
    "                     names=['MovieID', 'Title', 'Genres'], encoding='latin1')\n",
    "users = pd.read_csv(f'{path}/users.dat', sep='::', engine='python',\n",
    "                    names=['UserID', 'Gender', 'Age', 'Occupation', 'Zip-code'], encoding='latin1')\n",
    "\n",
    "# Nettoyage et harmonisation des titres\n",
    "movies['Title'] = (movies['Title']\n",
    "                   .str.lower()\n",
    "                   .str.replace(r'\\(\\d{4}\\)', '', regex=True)\n",
    "                   .str.replace(r'[^\\w\\s]', '', regex=True)\n",
    "                   .str.strip())\n",
    "\n",
    "# Fusion et nettoyage\n",
    "data = pd.merge(pd.merge(ratings, users), movies)\n",
    "data = data.drop_duplicates()\n",
    "data.reset_index(drop=True, inplace=True)\n",
    "\n",
    "# Transformation des genres en colonnes\n",
    "genres_dummies = data['Genres'].str.get_dummies(sep='|')\n",
    "data = pd.concat([data, genres_dummies], axis=1)\n",
    "\n",
    "print(\" Données préparées :\", data.shape)\n"
   ]
  },
  {
   "cell_type": "code",
   "execution_count": 2,
   "id": "cf2db8b9",
   "metadata": {},
   "outputs": [
    {
     "name": "stdout",
     "output_type": "stream",
     "text": [
      " Matrice utilisateur x film : (6040, 3664)\n"
     ]
    }
   ],
   "source": [
    "user_movie_matrix = data.pivot_table(index='UserID', columns='Title', values='Rating', fill_value=0)\n",
    "print(\" Matrice utilisateur x film :\", user_movie_matrix.shape)\n"
   ]
  },
  {
   "cell_type": "code",
   "execution_count": 3,
   "id": "a2c244d3",
   "metadata": {},
   "outputs": [],
   "source": [
    "# Normalisation des notes (centrage par utilisateur)\n",
    "user_mean = user_movie_matrix.replace(0, np.nan).mean(axis=1)\n",
    "user_matrix_centered = user_movie_matrix.sub(user_mean, axis=0).fillna(0)\n",
    "\n",
    "user_similarity = cosine_similarity(user_matrix_centered)\n",
    "user_similarity_df = pd.DataFrame(user_similarity, index=user_movie_matrix.index, columns=user_movie_matrix.index)\n"
   ]
  },
  {
   "cell_type": "code",
   "execution_count": 4,
   "id": "24a6f0c2",
   "metadata": {},
   "outputs": [
    {
     "name": "stdout",
     "output_type": "stream",
     "text": [
      " Similarités film-film calculées : (3664, 3664)\n"
     ]
    }
   ],
   "source": [
    "movie_features = data[['Title'] + list(genres_dummies.columns)].drop_duplicates('Title').set_index('Title')\n",
    "movie_similarity = cosine_similarity(movie_features.values)\n",
    "movie_similarity_df = pd.DataFrame(movie_similarity, index=movie_features.index, columns=movie_features.index)\n",
    "print(\" Similarités film-film calculées :\", movie_similarity_df.shape)\n"
   ]
  },
  {
   "cell_type": "code",
   "execution_count": 5,
   "id": "87b3ac63",
   "metadata": {},
   "outputs": [],
   "source": [
    "def recommander_collaboratif(user_id, n_similaires=5, n_recommandations=10):\n",
    "    similar_users = user_similarity_df[user_id].sort_values(ascending=False)[1:n_similaires+1]\n",
    "    candidate_movies = user_movie_matrix.loc[similar_users.index]\n",
    "    \n",
    "    weighted_ratings = candidate_movies.T.dot(similar_users) / similar_users.sum()\n",
    "    rated_movies = user_movie_matrix.loc[user_id]\n",
    "    weighted_ratings = weighted_ratings[rated_movies == 0]\n",
    "    \n",
    "    return list(weighted_ratings.sort_values(ascending=False).head(n_recommandations).index)\n"
   ]
  },
  {
   "cell_type": "code",
   "execution_count": 6,
   "id": "4e9974d1",
   "metadata": {},
   "outputs": [],
   "source": [
    "def recommander_contenu(user_id, n_recommandations=10):\n",
    "    user_rated = user_movie_matrix.loc[user_id]\n",
    "    liked_movies = user_rated[user_rated >= 4].index\n",
    "    if len(liked_movies) == 0:\n",
    "        return []\n",
    "    \n",
    "    scores = movie_similarity_df[liked_movies].sum(axis=1)\n",
    "    scores = scores[user_rated == 0]\n",
    "    \n",
    "    return list(scores.sort_values(ascending=False).head(n_recommandations).index)\n"
   ]
  },
  {
   "cell_type": "code",
   "execution_count": 7,
   "id": "4da4992a",
   "metadata": {},
   "outputs": [],
   "source": [
    "def recommander_films_hybride(user_id, alpha=0.6, n_recommandations=10):\n",
    "    collab = recommander_collaboratif(user_id, n_similaires=5, n_recommandations=n_recommandations)\n",
    "    contenu = recommander_contenu(user_id, n_recommandations=n_recommandations)\n",
    "    \n",
    "    combined = {}\n",
    "    \n",
    "    # Normalisation des scores : 1 pour le plus haut, décroissant pour les suivants\n",
    "    for i, movie in enumerate(collab):\n",
    "        combined[movie] = combined.get(movie, 0) + alpha * (n_recommandations - i)/n_recommandations\n",
    "    for i, movie in enumerate(contenu):\n",
    "        combined[movie] = combined.get(movie, 0) + (1-alpha) * (n_recommandations - i)/n_recommandations\n",
    "    \n",
    "    top_movies = sorted(combined.items(), key=lambda x: x[1], reverse=True)[:n_recommandations]\n",
    "    return [movie for movie, score in top_movies]\n"
   ]
  },
  {
   "cell_type": "code",
   "execution_count": 8,
   "id": "9c2fa2b4",
   "metadata": {},
   "outputs": [],
   "source": [
    "def evaluer_top_n(user_movie_matrix, recommander_films_hybride, n_recommandations=10, sample_size=100, alpha=0.6, n_test_movies=3):\n",
    "    users = random.sample(list(user_movie_matrix.index), min(sample_size, len(user_movie_matrix)))\n",
    "    precisions, recalls, hit_rates = [], [], []\n",
    "\n",
    "    for user_id in tqdm(users, desc=\"Évaluation Top-N\"):\n",
    "        user_ratings = user_movie_matrix.loc[user_id]\n",
    "        liked_movies = list(user_ratings[user_ratings >= 4].index)\n",
    "        if len(liked_movies) < n_test_movies:\n",
    "            continue\n",
    "\n",
    "        # Sélection aléatoire de quelques films aimés à cacher\n",
    "        test_movies = random.sample(liked_movies, n_test_movies)\n",
    "        original_ratings = user_ratings[test_movies].copy()\n",
    "        user_movie_matrix.loc[user_id, test_movies] = 0  # masquer\n",
    "\n",
    "        #  correction ici : utilisation du bon paramètre\n",
    "        recommandations = recommander_films_hybride(user_id, alpha=alpha, n_recommandations=n_recommandations)\n",
    "\n",
    "        if recommandations is None or len(recommandations) == 0:\n",
    "            user_movie_matrix.loc[user_id, test_movies] = original_ratings\n",
    "            continue\n",
    "\n",
    "        recommended_movies = set(recommandations)\n",
    "        true_positives = len(set(test_movies) & recommended_movies)\n",
    "\n",
    "        precisions.append(true_positives / n_recommandations)\n",
    "        recalls.append(true_positives / n_test_movies)\n",
    "        hit_rates.append(1 if true_positives > 0 else 0)\n",
    "\n",
    "        # restaurer les notes\n",
    "        user_movie_matrix.loc[user_id, test_movies] = original_ratings\n",
    "\n",
    "    precision_moy = np.mean(precisions) if precisions else 0\n",
    "    recall_moy = np.mean(recalls) if recalls else 0\n",
    "    hit_rate_moy = np.mean(hit_rates) if hit_rates else 0\n",
    "\n",
    "    print(f\"\\n Évaluation Top-{n_recommandations} :\")\n",
    "    print(f\" Précision moyenne : {precision_moy:.4f}\")\n",
    "    print(f\" Rappel moyen     : {recall_moy:.4f}\")\n",
    "    print(f\" Hit rate moyen   : {hit_rate_moy:.4f}\")\n",
    "\n",
    "    return precision_moy, recall_moy, hit_rate_moy\n"
   ]
  },
  {
   "cell_type": "code",
   "execution_count": 9,
   "id": "e7e82829",
   "metadata": {},
   "outputs": [
    {
     "name": "stderr",
     "output_type": "stream",
     "text": [
      "Évaluation Top-N: 100%|██████████| 100/100 [00:04<00:00, 21.43it/s]"
     ]
    },
    {
     "name": "stdout",
     "output_type": "stream",
     "text": [
      "\n",
      " Évaluation Top-10 :\n",
      " Précision moyenne : 0.0830\n",
      " Rappel moyen     : 0.2767\n",
      " Hit rate moyen   : 0.6500\n"
     ]
    },
    {
     "name": "stderr",
     "output_type": "stream",
     "text": [
      "\n"
     ]
    }
   ],
   "source": [
    "precision, recall, hit_rate = evaluer_top_n(user_movie_matrix, recommander_films_hybride,\n",
    "                                            n_recommandations=10, sample_size=100, alpha=0.6, n_test_movies=3)\n"
   ]
  },
  {
   "cell_type": "code",
   "execution_count": 10,
   "id": "f9113f52",
   "metadata": {},
   "outputs": [
    {
     "name": "stdout",
     "output_type": "stream",
     "text": [
      "\n",
      " Évaluation pour alpha = 0.0\n"
     ]
    },
    {
     "name": "stderr",
     "output_type": "stream",
     "text": [
      "Évaluation Top-N: 100%|██████████| 80/80 [00:04<00:00, 16.50it/s]\n"
     ]
    },
    {
     "name": "stdout",
     "output_type": "stream",
     "text": [
      "\n",
      " Évaluation Top-10 :\n",
      " Précision moyenne : 0.0075\n",
      " Rappel moyen     : 0.0250\n",
      " Hit rate moyen   : 0.0625\n",
      "\n",
      " Évaluation pour alpha = 0.2\n"
     ]
    },
    {
     "name": "stderr",
     "output_type": "stream",
     "text": [
      "Évaluation Top-N: 100%|██████████| 80/80 [00:03<00:00, 20.60it/s]\n"
     ]
    },
    {
     "name": "stdout",
     "output_type": "stream",
     "text": [
      "\n",
      " Évaluation Top-10 :\n",
      " Précision moyenne : 0.0400\n",
      " Rappel moyen     : 0.1333\n",
      " Hit rate moyen   : 0.3500\n",
      "\n",
      " Évaluation pour alpha = 0.4\n"
     ]
    },
    {
     "name": "stderr",
     "output_type": "stream",
     "text": [
      "Évaluation Top-N: 100%|██████████| 80/80 [00:03<00:00, 23.73it/s]\n"
     ]
    },
    {
     "name": "stdout",
     "output_type": "stream",
     "text": [
      "\n",
      " Évaluation Top-10 :\n",
      " Précision moyenne : 0.0525\n",
      " Rappel moyen     : 0.1750\n",
      " Hit rate moyen   : 0.4375\n",
      "\n",
      " Évaluation pour alpha = 0.6\n"
     ]
    },
    {
     "name": "stderr",
     "output_type": "stream",
     "text": [
      "Évaluation Top-N: 100%|██████████| 80/80 [00:03<00:00, 21.44it/s]\n"
     ]
    },
    {
     "name": "stdout",
     "output_type": "stream",
     "text": [
      "\n",
      " Évaluation Top-10 :\n",
      " Précision moyenne : 0.0838\n",
      " Rappel moyen     : 0.2792\n",
      " Hit rate moyen   : 0.5750\n",
      "\n",
      " Évaluation pour alpha = 0.8\n"
     ]
    },
    {
     "name": "stderr",
     "output_type": "stream",
     "text": [
      "Évaluation Top-N: 100%|██████████| 80/80 [00:03<00:00, 23.71it/s]\n"
     ]
    },
    {
     "name": "stdout",
     "output_type": "stream",
     "text": [
      "\n",
      " Évaluation Top-10 :\n",
      " Précision moyenne : 0.0938\n",
      " Rappel moyen     : 0.3125\n",
      " Hit rate moyen   : 0.7125\n",
      "\n",
      " Évaluation pour alpha = 1.0\n"
     ]
    },
    {
     "name": "stderr",
     "output_type": "stream",
     "text": [
      "Évaluation Top-N: 100%|██████████| 80/80 [00:03<00:00, 22.16it/s]\n"
     ]
    },
    {
     "name": "stdout",
     "output_type": "stream",
     "text": [
      "\n",
      " Évaluation Top-10 :\n",
      " Précision moyenne : 0.0875\n",
      " Rappel moyen     : 0.2917\n",
      " Hit rate moyen   : 0.6625\n"
     ]
    },
    {
     "data": {
      "image/png": "[encoded data removed]",
      "text/plain": [
       "<Figure size 800x500 with 1 Axes>"
      ]
     },
     "metadata": {},
     "output_type": "display_data"
    }
   ],
   "source": [
    "import matplotlib.pyplot as plt\n",
    "\n",
    "alphas = np.linspace(0, 1, 6)  # 0.0, 0.2, 0.4, ..., 1.0\n",
    "precisions, recalls, hits = [], [], []\n",
    "\n",
    "for a in alphas:\n",
    "    print(f\"\\n Évaluation pour alpha = {a:.1f}\")\n",
    "    p, r, h = evaluer_top_n(user_movie_matrix, recommander_films_hybride,\n",
    "                            n_recommandations=10, sample_size=80, alpha=a, n_test_movies=3)\n",
    "    precisions.append(p)\n",
    "    recalls.append(r)\n",
    "    hits.append(h)\n",
    "\n",
    "# ====== Visualisation ======\n",
    "plt.figure(figsize=(8,5))\n",
    "plt.plot(alphas, precisions, 'o-', label=\"Précision\")\n",
    "plt.plot(alphas, recalls, 's-', label=\"Rappel\")\n",
    "plt.plot(alphas, hits, '^-', label=\"Hit Rate\")\n",
    "\n",
    "plt.xlabel(\"Poids α (0 = collaboratif, 1 = contenu)\")\n",
    "plt.ylabel(\"Score moyen\")\n",
    "plt.title(\"Impact de α sur les performances du système hybride\")\n",
    "plt.legend()\n",
    "plt.grid(True)\n",
    "plt.show()\n"
   ]
  }
 ],
 "metadata": {
  "kernelspec": {
   "display_name": ".venv",
   "language": "python",
   "name": "python3"
  },
  "language_info": {
   "codemirror_mode": {
    "name": "ipython",
    "version": 3
   },
   "file_extension": ".py",
   "mimetype": "text/x-python",
   "name": "python",
   "nbconvert_exporter": "python",
   "pygments_lexer": "ipython3",
   "version": "3.11.0"
  }
 },
 "nbformat": 4,
 "nbformat_minor": 5
}
